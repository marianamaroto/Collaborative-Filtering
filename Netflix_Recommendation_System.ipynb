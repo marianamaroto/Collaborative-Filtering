{
  "nbformat": 4,
  "nbformat_minor": 0,
  "metadata": {
    "colab": {
      "name": "Netflix Recommendation System",
      "provenance": [],
      "collapsed_sections": []
    },
    "kernelspec": {
      "name": "python3",
      "display_name": "Python 3"
    },
    "language_info": {
      "name": "python"
    }
  },
  "cells": [
    {
      "cell_type": "markdown",
      "metadata": {
        "id": "L2xy2_i_imfx"
      },
      "source": [
        "\n",
        "\n",
        "# Building a Recommendation System based on a Netflix Rating Dataset."
      ]
    },
    {
      "cell_type": "markdown",
      "metadata": {
        "id": "QXODPKstiuky"
      },
      "source": [
        "# Collaborative Filtering\n",
        "\n",
        "This task aims to build a collaborative filtering recommendation system on the [Netflix data](https://www.kaggle.com/netflix-inc/netflix-prize-data?select=probe.txt)."
      ]
    },
    {
      "cell_type": "markdown",
      "metadata": {
        "id": "2xG-UtMWjFvd"
      },
      "source": [
        "### 1. Download Data From Kaggle\n",
        "Please follow the steps below to download the [Netflix Data](https://www.kaggle.com/netflix-inc/netflix-prize-data?select=combined_data_2.txt) to this Google Colab environment:\n",
        "\n",
        "1. Go to your Kaggle account, Scroll to API section and Click **Expire API Token** to remove previous tokens.\n",
        "\n",
        "2. Click on **Create New API Token** - It will download `kaggle.json` file on your machine."
      ]
    },
    {
      "cell_type": "code",
      "metadata": {
        "id": "gmqLbuj3jMjW",
        "colab": {
          "base_uri": "https://localhost:8080/"
        },
        "outputId": "6a447bbe-4523-421c-9efe-0699d357f99b"
      },
      "source": [
        "# 3. Install the kaggle API\n",
        "! pip install kaggle"
      ],
      "execution_count": null,
      "outputs": [
        {
          "output_type": "stream",
          "text": [
            "Requirement already satisfied: kaggle in /usr/local/lib/python3.7/dist-packages (1.5.12)\n",
            "Requirement already satisfied: urllib3 in /usr/local/lib/python3.7/dist-packages (from kaggle) (1.24.3)\n",
            "Requirement already satisfied: tqdm in /usr/local/lib/python3.7/dist-packages (from kaggle) (4.41.1)\n",
            "Requirement already satisfied: python-slugify in /usr/local/lib/python3.7/dist-packages (from kaggle) (4.0.1)\n",
            "Requirement already satisfied: six>=1.10 in /usr/local/lib/python3.7/dist-packages (from kaggle) (1.15.0)\n",
            "Requirement already satisfied: certifi in /usr/local/lib/python3.7/dist-packages (from kaggle) (2020.12.5)\n",
            "Requirement already satisfied: python-dateutil in /usr/local/lib/python3.7/dist-packages (from kaggle) (2.8.1)\n",
            "Requirement already satisfied: requests in /usr/local/lib/python3.7/dist-packages (from kaggle) (2.23.0)\n",
            "Requirement already satisfied: text-unidecode>=1.3 in /usr/local/lib/python3.7/dist-packages (from python-slugify->kaggle) (1.3)\n",
            "Requirement already satisfied: chardet<4,>=3.0.2 in /usr/local/lib/python3.7/dist-packages (from requests->kaggle) (3.0.4)\n",
            "Requirement already satisfied: idna<3,>=2.5 in /usr/local/lib/python3.7/dist-packages (from requests->kaggle) (2.10)\n"
          ],
          "name": "stdout"
        }
      ]
    },
    {
      "cell_type": "code",
      "metadata": {
        "id": "5qQQubkyjUc1",
        "colab": {
          "resources": {
            "http://localhost:8080/nbextensions/google.colab/files.js": {
              "data": "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",
              "ok": true,
              "headers": [
                [
                  "content-type",
                  "application/javascript"
                ]
              ],
              "status": 200,
              "status_text": ""
            }
          },
          "base_uri": "https://localhost:8080/",
          "height": 91
        },
        "outputId": "8b8bd79c-0876-4705-97c8-715b2f7db130"
      },
      "source": [
        "# 4. Upload the kaggle.json file\n",
        "from google.colab import files\n",
        "\n",
        "files.upload()"
      ],
      "execution_count": null,
      "outputs": [
        {
          "output_type": "display_data",
          "data": {
            "text/html": [
              "\n",
              "     <input type=\"file\" id=\"files-c54d0b33-790a-4bd5-9b00-60db658b4f23\" name=\"files[]\" multiple disabled\n",
              "        style=\"border:none\" />\n",
              "     <output id=\"result-c54d0b33-790a-4bd5-9b00-60db658b4f23\">\n",
              "      Upload widget is only available when the cell has been executed in the\n",
              "      current browser session. Please rerun this cell to enable.\n",
              "      </output>\n",
              "      <script src=\"/nbextensions/google.colab/files.js\"></script> "
            ],
            "text/plain": [
              "<IPython.core.display.HTML object>"
            ]
          },
          "metadata": {
            "tags": []
          }
        },
        {
          "output_type": "stream",
          "text": [
            "Saving kaggle.json to kaggle.json\n"
          ],
          "name": "stdout"
        },
        {
          "output_type": "execute_result",
          "data": {
            "text/plain": [
              "{'kaggle.json': b'{\"username\":\"marianamaroto\",\"key\":\"a0c2f1120fb6f4fc61d31e5d71865ee9\"}'}"
            ]
          },
          "metadata": {
            "tags": []
          },
          "execution_count": 6
        }
      ]
    },
    {
      "cell_type": "code",
      "metadata": {
        "id": "cEgI4LTejVha",
        "colab": {
          "base_uri": "https://localhost:8080/"
        },
        "outputId": "7f902b9c-9f89-4720-e144-96e2c45f8e8a"
      },
      "source": [
        "# 5. Make a directory named kaggle and copy kaggle.json file there\n",
        "! mkdir ~/.kaggle\n",
        "! cp kaggle.json ~/.kaggle/\n",
        "\n",
        "# Change the permission of the file\n",
        "! chmod 600 ~/.kaggle/kaggle.json"
      ],
      "execution_count": null,
      "outputs": [
        {
          "output_type": "stream",
          "text": [
            "mkdir: cannot create directory ‘/root/.kaggle’: File exists\n"
          ],
          "name": "stdout"
        }
      ]
    },
    {
      "cell_type": "code",
      "metadata": {
        "id": "_mGif13Cjd4Q",
        "colab": {
          "base_uri": "https://localhost:8080/"
        },
        "outputId": "b53956f0-2f93-4ab6-e83b-b6b9c14aeed3"
      },
      "source": [
        "# 6. Download the Netflix data\n",
        "!kaggle datasets download -d netflix-inc/netflix-prize-data"
      ],
      "execution_count": null,
      "outputs": [
        {
          "output_type": "stream",
          "text": [
            "Downloading netflix-prize-data.zip to /content\n",
            " 99% 673M/683M [00:08<00:00, 55.0MB/s]\n",
            "100% 683M/683M [00:08<00:00, 82.1MB/s]\n"
          ],
          "name": "stdout"
        }
      ]
    },
    {
      "cell_type": "code",
      "metadata": {
        "id": "ot3Zwrq2jgeD",
        "colab": {
          "base_uri": "https://localhost:8080/"
        },
        "outputId": "d6b8f01f-83e4-46d8-f9b7-e4d8bd6ebf45"
      },
      "source": [
        "# 7. Unzip the downloaded file\n",
        "!unzip netflix-prize-data.zip"
      ],
      "execution_count": null,
      "outputs": [
        {
          "output_type": "stream",
          "text": [
            "Archive:  netflix-prize-data.zip\n",
            "  inflating: README                  \n",
            "  inflating: combined_data_1.txt     \n",
            "  inflating: combined_data_2.txt     \n",
            "  inflating: combined_data_3.txt     \n",
            "  inflating: combined_data_4.txt     \n",
            "  inflating: movie_titles.csv        \n",
            "  inflating: probe.txt               \n",
            "  inflating: qualifying.txt          \n"
          ],
          "name": "stdout"
        }
      ]
    },
    {
      "cell_type": "markdown",
      "metadata": {
        "id": "C_X4cPYBjgv4"
      },
      "source": [
        "## Load the Data\n",
        "\n",
        "The code below load the data from `combined_data_1.txt` as a data frame. Expand the code so to load from all data files."
      ]
    },
    {
      "cell_type": "code",
      "metadata": {
        "id": "lXItP4R_kMOI",
        "colab": {
          "base_uri": "https://localhost:8080/"
        },
        "outputId": "9578c6e8-a29d-4891-f26d-7bd147580456"
      },
      "source": [
        "!pip install pyspark"
      ],
      "execution_count": null,
      "outputs": [
        {
          "output_type": "stream",
          "text": [
            "Collecting pyspark\n",
            "\u001b[?25l  Downloading https://files.pythonhosted.org/packages/45/b0/9d6860891ab14a39d4bddf80ba26ce51c2f9dc4805e5c6978ac0472c120a/pyspark-3.1.1.tar.gz (212.3MB)\n",
            "\u001b[K     |████████████████████████████████| 212.3MB 71kB/s \n",
            "\u001b[?25hCollecting py4j==0.10.9\n",
            "\u001b[?25l  Downloading https://files.pythonhosted.org/packages/9e/b6/6a4fb90cd235dc8e265a6a2067f2a2c99f0d91787f06aca4bcf7c23f3f80/py4j-0.10.9-py2.py3-none-any.whl (198kB)\n",
            "\u001b[K     |████████████████████████████████| 204kB 49.7MB/s \n",
            "\u001b[?25hBuilding wheels for collected packages: pyspark\n",
            "  Building wheel for pyspark (setup.py) ... \u001b[?25l\u001b[?25hdone\n",
            "  Created wheel for pyspark: filename=pyspark-3.1.1-py2.py3-none-any.whl size=212767604 sha256=bb5b80413ccc687dddc0f3f53009d09cdd700cab5762df86ec4e16785f969865\n",
            "  Stored in directory: /root/.cache/pip/wheels/0b/90/c0/01de724414ef122bd05f056541fb6a0ecf47c7ca655f8b3c0f\n",
            "Successfully built pyspark\n",
            "Installing collected packages: py4j, pyspark\n",
            "Successfully installed py4j-0.10.9 pyspark-3.1.1\n"
          ],
          "name": "stdout"
        }
      ]
    },
    {
      "cell_type": "code",
      "metadata": {
        "id": "aErdGbZyjoTQ"
      },
      "source": [
        "import numpy as np\n",
        "import matplotlib.pyplot as plt\n",
        "import os"
      ],
      "execution_count": null,
      "outputs": []
    },
    {
      "cell_type": "code",
      "metadata": {
        "id": "DYxzgeaajqBE"
      },
      "source": [
        "if not os.path.isfile('data.csv'):\n",
        "    data = open('data.csv', mode='w')\n",
        "\n",
        "file = \"combined_data_1.txt\"\n",
        "with open(file) as f:\n",
        "    for line in f:\n",
        "        line = line.strip()\n",
        "        if line.endswith(':'):\n",
        "            movie_id = line.replace(':', '')\n",
        "        else:\n",
        "            data.write(movie_id + ',' + line)\n",
        "            data.write('\\n')"
      ],
      "execution_count": null,
      "outputs": []
    },
    {
      "cell_type": "code",
      "metadata": {
        "id": "gCFSnHI_kQAC"
      },
      "source": [
        "from pyspark.sql import SparkSession\n",
        "spark = SparkSession.builder.appName('Collaborative Filtering').getOrCreate()"
      ],
      "execution_count": null,
      "outputs": []
    },
    {
      "cell_type": "code",
      "metadata": {
        "id": "QQjbeih8jvoo",
        "colab": {
          "base_uri": "https://localhost:8080/"
        },
        "outputId": "9cab27d3-9622-488b-c03a-78570327b1a3"
      },
      "source": [
        "from pyspark.sql.types import StructType, StructField, IntegerType, DateType\n",
        "schema = StructType([\n",
        "    StructField(\"movie_id\", IntegerType(), True),\n",
        "    StructField(\"user_id\", IntegerType(), True),\n",
        "    StructField(\"ratings\", IntegerType(), True),\n",
        "    StructField(\"data\", DateType(), True)\n",
        "])\n",
        "data_customer = spark.read.csv('data.csv', header=False, schema=schema)\n",
        "data_customer.printSchema()"
      ],
      "execution_count": null,
      "outputs": [
        {
          "output_type": "stream",
          "text": [
            "root\n",
            " |-- movie_id: integer (nullable = true)\n",
            " |-- user_id: integer (nullable = true)\n",
            " |-- ratings: integer (nullable = true)\n",
            " |-- data: date (nullable = true)\n",
            "\n"
          ],
          "name": "stdout"
        }
      ]
    },
    {
      "cell_type": "markdown",
      "metadata": {
        "id": "jsMlYMx2lVmU"
      },
      "source": [
        "## 2. Train-Test Split\n",
        "Split the dataset into 80% training data and 20% test data."
      ]
    },
    {
      "cell_type": "code",
      "metadata": {
        "id": "ROFRFKmulq65"
      },
      "source": [
        "from pyspark.ml.tuning import TrainValidationSplit\n",
        "\n",
        "# Split data into train and test set\n",
        "train, test = data_customer.randomSplit([0.8, 0.2], seed=42)"
      ],
      "execution_count": null,
      "outputs": []
    },
    {
      "cell_type": "markdown",
      "metadata": {
        "id": "NRDfSsn5lru_"
      },
      "source": [
        "## 3. Train the Alternating Least-Squares Model\n",
        "Apply the [alternating least squares method](https://spark.apache.org/docs/2.2.0/ml-collaborative-filtering.html) to build a recommendation system."
      ]
    },
    {
      "cell_type": "code",
      "metadata": {
        "id": "H6MkHtpemBQ8",
        "colab": {
          "base_uri": "https://localhost:8080/"
        },
        "outputId": "432e5ed0-ba50-4186-e494-ff2b4974bec6"
      },
      "source": [
        "from pyspark.ml.evaluation import RegressionEvaluator\n",
        "from pyspark.ml.recommendation import ALS\n",
        "\n",
        "# Build the recommendation model using ALS on the training data\n",
        "# Note we set cold start strategy to 'drop' to ensure we don't get NaN evaluation metrics\n",
        "als = ALS(maxIter=5, regParam=0.01, userCol=\"user_id\", itemCol=\"movie_id\", ratingCol=\"ratings\",\n",
        "          coldStartStrategy=\"drop\")\n",
        "model = als.fit(train)\n",
        "\n",
        "# Evaluate the model by computing the RMSE on the test data\n",
        "predictions = model.transform(test)\n",
        "evaluator = RegressionEvaluator(metricName=\"rmse\", labelCol=\"ratings\",\n",
        "                                predictionCol=\"prediction\")\n",
        "rmse = evaluator.evaluate(predictions)\n",
        "print(\"Root-mean-square error = \" + str(rmse))\n",
        "\n",
        "# Generate top 10 movie recommendations for each user\n",
        "userRecs = model.recommendForAllUsers(10)\n",
        "# Generate top 10 user recommendations for each movie\n",
        "movieRecs = model.recommendForAllItems(10)"
      ],
      "execution_count": null,
      "outputs": [
        {
          "output_type": "stream",
          "text": [
            "Root-mean-square error = 0.9560534244263446\n"
          ],
          "name": "stdout"
        }
      ]
    },
    {
      "cell_type": "code",
      "metadata": {
        "colab": {
          "base_uri": "https://localhost:8080/"
        },
        "id": "X9RpxyblBTlb",
        "outputId": "c16e4184-ffa0-488e-e0ff-0f9db1fe58bd"
      },
      "source": [
        "userRecs.head(5)"
      ],
      "execution_count": null,
      "outputs": [
        {
          "output_type": "execute_result",
          "data": {
            "text/plain": [
              "[Row(user_id=471, recommendations=[Row(movie_id=614, rating=7.379634857177734), Row(movie_id=4205, rating=7.203495979309082), Row(movie_id=2761, rating=7.112646102905273), Row(movie_id=3869, rating=6.783904075622559), Row(movie_id=2207, rating=6.342108249664307), Row(movie_id=4090, rating=6.155520439147949), Row(movie_id=51, rating=6.1271820068359375), Row(movie_id=2280, rating=6.025995254516602), Row(movie_id=296, rating=5.9571428298950195), Row(movie_id=4178, rating=5.8679704666137695)]),\n",
              " Row(user_id=1088, recommendations=[Row(movie_id=972, rating=6.44008731842041), Row(movie_id=203, rating=6.2677717208862305), Row(movie_id=3237, rating=5.8581366539001465), Row(movie_id=2187, rating=5.857769012451172), Row(movie_id=2110, rating=5.718303680419922), Row(movie_id=1376, rating=5.711306571960449), Row(movie_id=343, rating=5.620838165283203), Row(movie_id=3361, rating=5.602970600128174), Row(movie_id=219, rating=5.596135139465332), Row(movie_id=451, rating=5.569637775421143)]),\n",
              " Row(user_id=2122, recommendations=[Row(movie_id=4090, rating=6.071164608001709), Row(movie_id=3869, rating=5.932195663452148), Row(movie_id=2207, rating=5.918415069580078), Row(movie_id=2761, rating=5.6005940437316895), Row(movie_id=296, rating=5.597162246704102), Row(movie_id=2653, rating=5.539332389831543), Row(movie_id=3578, rating=5.347720146179199), Row(movie_id=3866, rating=5.3439154624938965), Row(movie_id=3112, rating=5.288298606872559), Row(movie_id=614, rating=5.183834075927734)]),\n",
              " Row(user_id=2142, recommendations=[Row(movie_id=728, rating=6.188282012939453), Row(movie_id=656, rating=6.157558917999268), Row(movie_id=1344, rating=5.8459858894348145), Row(movie_id=2788, rating=5.643828392028809), Row(movie_id=1385, rating=5.635087490081787), Row(movie_id=2187, rating=5.613194465637207), Row(movie_id=2115, rating=5.560699939727783), Row(movie_id=64, rating=5.489899158477783), Row(movie_id=307, rating=5.453667163848877), Row(movie_id=4288, rating=5.446164608001709)]),\n",
              " Row(user_id=2659, recommendations=[Row(movie_id=3656, rating=9.1146821975708), Row(movie_id=1779, rating=8.726934432983398), Row(movie_id=1815, rating=8.705535888671875), Row(movie_id=402, rating=8.450221061706543), Row(movie_id=3578, rating=8.310253143310547), Row(movie_id=2134, rating=8.30449390411377), Row(movie_id=2939, rating=8.235649108886719), Row(movie_id=4326, rating=7.946223258972168), Row(movie_id=1658, rating=7.885188102722168), Row(movie_id=221, rating=7.871341228485107)])]"
            ]
          },
          "metadata": {
            "tags": []
          },
          "execution_count": 18
        }
      ]
    },
    {
      "cell_type": "code",
      "metadata": {
        "colab": {
          "base_uri": "https://localhost:8080/"
        },
        "id": "WGRbxWOHBX2X",
        "outputId": "5ce1d680-5a3b-49db-bcf6-b3aa1929e04b"
      },
      "source": [
        "movieRecs.head(5)"
      ],
      "execution_count": null,
      "outputs": [
        {
          "output_type": "execute_result",
          "data": {
            "text/plain": [
              "[Row(movie_id=1580, recommendations=[Row(user_id=764123, rating=7.450042724609375), Row(user_id=858224, rating=7.156418323516846), Row(user_id=1997375, rating=7.127230167388916), Row(user_id=215456, rating=6.986635208129883), Row(user_id=2130657, rating=6.90012264251709), Row(user_id=1880586, rating=6.887922286987305), Row(user_id=1224184, rating=6.870545387268066), Row(user_id=661511, rating=6.84704065322876), Row(user_id=244979, rating=6.819540977478027), Row(user_id=225291, rating=6.814430236816406)]),\n",
              " Row(movie_id=471, recommendations=[Row(user_id=1142460, rating=7.536010265350342), Row(user_id=1751732, rating=7.111346244812012), Row(user_id=2531996, rating=7.043582439422607), Row(user_id=383247, rating=6.697164535522461), Row(user_id=2629109, rating=6.644122123718262), Row(user_id=874653, rating=6.576974391937256), Row(user_id=1417639, rating=6.544713020324707), Row(user_id=677779, rating=6.535009384155273), Row(user_id=1810051, rating=6.529563903808594), Row(user_id=858224, rating=6.477446556091309)]),\n",
              " Row(movie_id=1591, recommendations=[Row(user_id=54286, rating=11.674666404724121), Row(user_id=854726, rating=10.75063705444336), Row(user_id=1943686, rating=10.445558547973633), Row(user_id=2217049, rating=10.430603981018066), Row(user_id=1835788, rating=10.295337677001953), Row(user_id=133728, rating=10.253194808959961), Row(user_id=199848, rating=10.246255874633789), Row(user_id=442659, rating=10.209993362426758), Row(user_id=1287002, rating=10.169120788574219), Row(user_id=2226348, rating=10.150445938110352)]),\n",
              " Row(movie_id=4101, recommendations=[Row(user_id=98395, rating=15.408276557922363), Row(user_id=1284106, rating=15.31579875946045), Row(user_id=335407, rating=14.742932319641113), Row(user_id=1224184, rating=14.627447128295898), Row(user_id=901793, rating=14.417623519897461), Row(user_id=1674786, rating=14.076208114624023), Row(user_id=1835788, rating=14.017431259155273), Row(user_id=2249938, rating=13.784429550170898), Row(user_id=1798925, rating=13.418990135192871), Row(user_id=337315, rating=13.280289649963379)]),\n",
              " Row(movie_id=1342, recommendations=[Row(user_id=1420236, rating=7.4946980476379395), Row(user_id=2558577, rating=7.429777145385742), Row(user_id=629215, rating=7.341580867767334), Row(user_id=1798925, rating=7.107159614562988), Row(user_id=1444386, rating=6.934627056121826), Row(user_id=505988, rating=6.912263870239258), Row(user_id=615217, rating=6.899482250213623), Row(user_id=946754, rating=6.862397193908691), Row(user_id=2201653, rating=6.797126293182373), Row(user_id=2509557, rating=6.784010887145996)])]"
            ]
          },
          "metadata": {
            "tags": []
          },
          "execution_count": 19
        }
      ]
    }
  ]
}